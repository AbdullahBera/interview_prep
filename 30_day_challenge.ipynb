{
 "cells": [
  {
   "cell_type": "code",
   "execution_count": 2,
   "metadata": {},
   "outputs": [
    {
     "name": "stdout",
     "output_type": "stream",
     "text": [
      "[4, 3, 2, 1]\n"
     ]
    }
   ],
   "source": [
    "# Day 6 \n",
    "\"\"\"\n",
    "Objective\n",
    "Today, we will learn about the Array data structure. Check out the Tutorial tab for learning materials and an instructional video.\n",
    "\n",
    "Task\n",
    "Given an array A of N integers, print A's elements in reverse order as a single line of space-separated numbers.\n",
    "\n",
    "Example\n",
    "A equals [1, 2, 3, 4]\n",
    "\n",
    "Print: 4 3 2 1\n",
    "Each integer is separated by one space.\n",
    "\n",
    "Input Format\n",
    "The first line contains an integer N, which is the size of our array.\n",
    "The second line contains N space-separated integers that describe the elements of array A.\n",
    "\"\"\"\n",
    "A = [1, 2, 3, 4]\n",
    "\n",
    "def reverse(a):\n",
    "    print(a[::-1])\n",
    "\n",
    "reverse(A)"
   ]
  },
  {
   "cell_type": "code",
   "execution_count": 30,
   "metadata": {},
   "outputs": [
    {
     "name": "stdout",
     "output_type": "stream",
     "text": [
      "abc def\n"
     ]
    }
   ],
   "source": [
    "# Day 5 \n",
    "\"\"\"\n",
    "Objective:\n",
    "The goal is to learn more about strings and loops.\n",
    "\n",
    "Task:\n",
    "You are given a string S of length N, indexed from 0 to N-1. Your task is to split the string into two separate strings:\n",
    "\n",
    "One string contains the characters at even indices.\n",
    "The other string contains the characters at odd indices.\n",
    "Print these two strings separated by a space on the same line.\n",
    "\n",
    "Note:\n",
    "The index 0 is considered an even index.\n",
    "\n",
    "Example:\n",
    "If the input string is S = adbecf, the output should be:\n",
    "\n",
    "python\n",
    "Copy code\n",
    "abc def\n",
    "Here, abc contains characters at even indices, and def contains characters at odd indices.\n",
    "\"\"\"\n",
    "\n",
    "s= 'adbecf'\n",
    "new_odd = ''\n",
    "new_even = ''\n",
    "\n",
    "for i in range(len(s)):\n",
    "    if i % 2 != 0:\n",
    "        new_even += s[i]\n",
    "    else:\n",
    "        new_odd += s[i]\n",
    "    \n",
    "print(new_odd, new_even)"
   ]
  },
  {
   "cell_type": "code",
   "execution_count": 1,
   "metadata": {},
   "outputs": [
    {
     "name": "stdout",
     "output_type": "stream",
     "text": [
      "2 x 1 = 2\n",
      "2 x 2 = 4\n",
      "2 x 3 = 6\n",
      "2 x 4 = 8\n",
      "2 x 5 = 10\n",
      "2 x 6 = 12\n",
      "2 x 7 = 14\n",
      "2 x 8 = 16\n",
      "2 x 9 = 18\n",
      "2 x 10 = 20\n"
     ]
    }
   ],
   "source": [
    "# Day 5 \n",
    "\n",
    "\"\"\"\n",
    "Objective:\n",
    "The goal of this task is to use loops to perform a mathematical operation.\n",
    "\n",
    "Task:\n",
    "You are given a number (n). Your task is to print its first 10 multiples. For each multiple, show it in this format:\n",
    "n x i = result\n",
    "where i goes from 1 to 10.\n",
    "\n",
    "Example:\n",
    "If the input is n = 3, the output should look like this:\n",
    "\n",
    "Copy code\n",
    "3 x 1 = 3  \n",
    "3 x 2 = 6  \n",
    "3 x 3 = 9  \n",
    "3 x 4 = 12  \n",
    "3 x 5 = 15  \n",
    "3 x 6 = 18  \n",
    "3 x 7 = 21  \n",
    "3 x 8 = 24  \n",
    "3 x 9 = 27  \n",
    "3 x 10 = 30  \n",
    "Input Format:\n",
    "You will be given a single integer, n.\n",
    "\"\"\"\n",
    "n = 2 \n",
    "for x in range(1, 11):\n",
    "    print(f\"{n} x {x} = {x*n}\")"
   ]
  },
  {
   "cell_type": "code",
   "execution_count": 5,
   "metadata": {},
   "outputs": [
    {
     "name": "stdout",
     "output_type": "stream",
     "text": [
      "Weird\n"
     ]
    }
   ],
   "source": [
    "# Day 4 \n",
    "\n",
    "\"\"\"\n",
    "Objective\n",
    "In this challenge, we learn about conditional statements.\n",
    "\n",
    "Task\n",
    "Given an integer, n, perform the following conditional actions:\n",
    "\n",
    "If n is odd, print Weird.\n",
    "If n is even and in the inclusive range of 2 to 5, print Not Weird.\n",
    "If n is even and in the inclusive range of 6 to 20, print Weird.\n",
    "If n is even and greater than 20, print Not Weird.\n",
    "Complete the stub code provided in your editor to print whether or not n is weird.\n",
    "\n",
    "Input Format\n",
    "A single line containing a positive integer, n.\n",
    "\"\"\"\n",
    "n=8\n",
    "\n",
    "if n % 2 != 0:\n",
    "    print(\"Weird\")\n",
    "else: \n",
    "    if n in range(2,6):\n",
    "        print(\"Not Weird\")\n",
    "    elif n in range(6,21):\n",
    "        print(\"Weird\")\n",
    "    elif n > 20:\n",
    "        print(\"Not Weird\")"
   ]
  },
  {
   "cell_type": "code",
   "execution_count": null,
   "metadata": {},
   "outputs": [],
   "source": [
    "# Day 3 \n",
    "\n",
    "\"\"\"\n",
    "Objective\n",
    "In this challenge, you will use arithmetic operators to solve a problem.\n",
    "\n",
    "Task\n",
    "You are given:\n",
    "\n",
    "meal_cost: The base cost of a meal.\n",
    "tip_percent: The percentage of the meal cost that is added as a tip.\n",
    "tax_percent: The percentage of the meal cost that is added as tax.\n",
    "Your job is to calculate the total cost of the meal and print the result as an integer, rounded to the nearest whole number.\n",
    "\n",
    "Example\n",
    "If:\n",
    "\n",
    "meal_cost = 100\n",
    "tip_percent = 15\n",
    "tax_percent = 8\n",
    "The calculations are:\n",
    "\n",
    "Tip = 15% of 100 = 15\n",
    "Tax = 8% of 100 = 8\n",
    "Total cost = meal_cost + tip + tax = 100 + 15 + 8 = 123\n",
    "You print 123.\n",
    "\n",
    "\"\"\"\n",
    "\n",
    "def solve(meal_cost, tip_percent, tax_percent):\n",
    "    # Write your code here\n",
    "    tip = (tip_percent / 100) * meal_cost\n",
    "    tax = (tax_percent / 100) * meal_cost\n",
    "    \n",
    "    total_cost = round(tip + tax + meal_cost)\n",
    "    \n",
    "    print(total_cost)"
   ]
  },
  {
   "cell_type": "code",
   "execution_count": null,
   "metadata": {},
   "outputs": [],
   "source": [
    "# Day 2 \n",
    "\n",
    "i = 4\n",
    "d = 4.0\n",
    "s = 'HackerRank '\n",
    "# Declare second integer, double, and String variables.\n",
    "integer_var = int(input())\n",
    "float_var = float(input())\n",
    "string_var = str(input())\n",
    "# Read and save an integer, double, and String to your variables.\n",
    "sum_int = integer_var + i\n",
    "sum_float = float_var + d \n",
    "concate_string = s + string_var\n",
    "# Print the sum of both integer variables on a new line.\n",
    "print(sum_int)\n",
    "# Print the sum of the double variables on a new line.\n",
    "print(sum_float)\n",
    "# Concatenate and print the String variables on a new line\n",
    "# The 's' variable above should be printed first.\n",
    "print(concate_string)"
   ]
  },
  {
   "cell_type": "code",
   "execution_count": null,
   "metadata": {},
   "outputs": [],
   "source": [
    "# Day 1 \n",
    "\n",
    "# Read a full line of input from stdin and save it to our dynamically typed variable, input_string.\n",
    "input_string = input()\n",
    "\n",
    "# Print a string literal saying \"Hello, World.\" to stdout.\n",
    "print('Hello, World.')\n",
    "\n",
    "# TODO: Write a line of code here that prints the contents of input_string to stdout.\n",
    "print(input_string)"
   ]
  },
  {
   "cell_type": "code",
   "execution_count": null,
   "metadata": {},
   "outputs": [],
   "source": []
  }
 ],
 "metadata": {
  "kernelspec": {
   "display_name": "base",
   "language": "python",
   "name": "python3"
  },
  "language_info": {
   "codemirror_mode": {
    "name": "ipython",
    "version": 3
   },
   "file_extension": ".py",
   "mimetype": "text/x-python",
   "name": "python",
   "nbconvert_exporter": "python",
   "pygments_lexer": "ipython3",
   "version": "3.12.2"
  }
 },
 "nbformat": 4,
 "nbformat_minor": 2
}
