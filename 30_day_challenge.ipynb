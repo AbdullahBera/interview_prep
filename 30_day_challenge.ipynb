{
 "cells": [
  {
   "cell_type": "code",
   "execution_count": null,
   "metadata": {},
   "outputs": [],
   "source": [
    "# Day 3 \n",
    "\n",
    "\"\"\"\n",
    "Objective\n",
    "In this challenge, you will use arithmetic operators to solve a problem.\n",
    "\n",
    "Task\n",
    "You are given:\n",
    "\n",
    "meal_cost: The base cost of a meal.\n",
    "tip_percent: The percentage of the meal cost that is added as a tip.\n",
    "tax_percent: The percentage of the meal cost that is added as tax.\n",
    "Your job is to calculate the total cost of the meal and print the result as an integer, rounded to the nearest whole number.\n",
    "\n",
    "Example\n",
    "If:\n",
    "\n",
    "meal_cost = 100\n",
    "tip_percent = 15\n",
    "tax_percent = 8\n",
    "The calculations are:\n",
    "\n",
    "Tip = 15% of 100 = 15\n",
    "Tax = 8% of 100 = 8\n",
    "Total cost = meal_cost + tip + tax = 100 + 15 + 8 = 123\n",
    "You print 123.\n",
    "\n",
    "\"\"\"\n",
    "\n",
    "def solve(meal_cost, tip_percent, tax_percent):\n",
    "    # Write your code here\n",
    "    tip = (tip_percent / 100) * meal_cost\n",
    "    tax = (tax_percent / 100) * meal_cost\n",
    "    \n",
    "    total_cost = round(tip + tax + meal_cost)\n",
    "    \n",
    "    print(total_cost)"
   ]
  },
  {
   "cell_type": "code",
   "execution_count": null,
   "metadata": {},
   "outputs": [],
   "source": [
    "# Day 2 \n",
    "\n",
    "i = 4\n",
    "d = 4.0\n",
    "s = 'HackerRank '\n",
    "# Declare second integer, double, and String variables.\n",
    "integer_var = int(input())\n",
    "float_var = float(input())\n",
    "string_var = str(input())\n",
    "# Read and save an integer, double, and String to your variables.\n",
    "sum_int = integer_var + i\n",
    "sum_float = float_var + d \n",
    "concate_string = s + string_var\n",
    "# Print the sum of both integer variables on a new line.\n",
    "print(sum_int)\n",
    "# Print the sum of the double variables on a new line.\n",
    "print(sum_float)\n",
    "# Concatenate and print the String variables on a new line\n",
    "# The 's' variable above should be printed first.\n",
    "print(concate_string)"
   ]
  },
  {
   "cell_type": "code",
   "execution_count": null,
   "metadata": {},
   "outputs": [],
   "source": [
    "# Day 1 \n",
    "\n",
    "# Read a full line of input from stdin and save it to our dynamically typed variable, input_string.\n",
    "input_string = input()\n",
    "\n",
    "# Print a string literal saying \"Hello, World.\" to stdout.\n",
    "print('Hello, World.')\n",
    "\n",
    "# TODO: Write a line of code here that prints the contents of input_string to stdout.\n",
    "print(input_string)"
   ]
  },
  {
   "cell_type": "code",
   "execution_count": null,
   "metadata": {},
   "outputs": [],
   "source": []
  }
 ],
 "metadata": {
  "kernelspec": {
   "display_name": "base",
   "language": "python",
   "name": "python3"
  },
  "language_info": {
   "codemirror_mode": {
    "name": "ipython",
    "version": 3
   },
   "file_extension": ".py",
   "mimetype": "text/x-python",
   "name": "python",
   "nbconvert_exporter": "python",
   "pygments_lexer": "ipython3",
   "version": "3.12.2"
  }
 },
 "nbformat": 4,
 "nbformat_minor": 2
}
