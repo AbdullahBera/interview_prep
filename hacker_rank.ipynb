{
 "cells": [
  {
   "cell_type": "code",
   "execution_count": 3,
   "metadata": {},
   "outputs": [
    {
     "name": "stdout",
     "output_type": "stream",
     "text": [
      "0.4\n",
      "0.4\n",
      "0.2\n"
     ]
    }
   ],
   "source": [
    "## Question 1 \n",
    "\n",
    "\"\"\"\n",
    "Given an array of integers, calculate the ratios of its elements that are positive, negative, and zero. Print the decimal value of each fraction on a new line with  places after the decimal.\n",
    "\n",
    "Note: This challenge introduces precision problems. The test cases are scaled to six decimal places, though answers with absolute error of up to 10^-4 are acceptable\n",
    "\n",
    "\n",
    "\"\"\"\n",
    "def plusMinus(arr):\n",
    "    # Write your code here\n",
    "    pos = []\n",
    "    neg = []\n",
    "    zero = []\n",
    "    \n",
    "    for i in arr:\n",
    "        if i < 0:\n",
    "            neg.append(i)\n",
    "        elif i > 0:\n",
    "            pos.append(i)\n",
    "        else:\n",
    "            zero.append(i)\n",
    "    print(len(pos)/len(arr))\n",
    "    print(len(neg)/len(arr))\n",
    "    print(len(zero)/len(arr))\n",
    "\n",
    "arr = [1, 1, 0, -1, -1]\n",
    "\n",
    "plusMinus(arr)"
   ]
  },
  {
   "cell_type": "code",
   "execution_count": 7,
   "metadata": {},
   "outputs": [
    {
     "data": {
      "text/plain": [
       "[3, 1, 9, 7, 5]"
      ]
     },
     "execution_count": 7,
     "metadata": {},
     "output_type": "execute_result"
    }
   ],
   "source": [
    "## Question 2 \n",
    "\n",
    "\"\"\"\n",
    "Given five positive integers, find the minimum and maximum values that can be calculated by summing exactly four of the five integers. \n",
    "\n",
    "Then print the respective minimum and maximum values as a single line of two space-separated long integers.\n",
    "\n",
    "\"\"\"\n",
    "\n",
    "def miniMaxSum(arr):\n",
    "    # Write your code here\n",
    "    sort_value = sorted(arr)\n",
    "    \n",
    "    print(sum(sort_value[:4]), sum(sort_value[1:]))\n",
    "\n",
    "arr = [3, 1, 9, 7, 5]\n",
    "\n",
    "arr"
   ]
  },
  {
   "cell_type": "code",
   "execution_count": 34,
   "metadata": {},
   "outputs": [
    {
     "name": "stdout",
     "output_type": "stream",
     "text": [
      "03:01:00\n"
     ]
    }
   ],
   "source": [
    "\n",
    "## Question 3 \n",
    "\n",
    "\"\"\"\n",
    "Given a 12 time in -hour AM/PM format, convert it to military (24-hour) time.\n",
    "\n",
    "Note: - 12:00:00AM on a 12-hour clock is 00:00:00 on a 24-hour clock.\n",
    "- 12:00:00PM on a 12-hour clock is 12:00:00 on a 24-hour clock.\n",
    "\n",
    "\"\"\"\n",
    "\n",
    "s = '03:01:00AM'\n",
    "\n",
    "s_split = s.split(\":\")[2]\n",
    "\n",
    "if 'PM' in s.split(':')[2] and s.split(':')[0] == '12':\n",
    "    hrs = print('12'+':'+s.split(':')[1]+':'+s_split.split('PM')[0])\n",
    "\n",
    "elif 'PM' in s.split(':')[2]:\n",
    "    hrs = int(s.split(':')[0]) + int('12')\n",
    "    print(str(hrs)+':'+s.split(':')[1]+':'+s_split.split('PM')[0])\n",
    "\n",
    "elif 'AM' in s.split(':')[2] and s.split(':')[0] == '12':\n",
    "    print('00'+':'+s.split(':')[1]+':'+s_split.split('AM')[0])\n",
    "\n",
    "else: \n",
    "    print(s.split(':')[0]+':'+s.split(':')[1]+':'+s_split.split('AM')[0])\n",
    "\n",
    "\n",
    "\n",
    "\n"
   ]
  },
  {
   "cell_type": "code",
   "execution_count": null,
   "metadata": {},
   "outputs": [],
   "source": []
  },
  {
   "cell_type": "code",
   "execution_count": null,
   "metadata": {},
   "outputs": [],
   "source": []
  }
 ],
 "metadata": {
  "kernelspec": {
   "display_name": "base",
   "language": "python",
   "name": "python3"
  },
  "language_info": {
   "codemirror_mode": {
    "name": "ipython",
    "version": 3
   },
   "file_extension": ".py",
   "mimetype": "text/x-python",
   "name": "python",
   "nbconvert_exporter": "python",
   "pygments_lexer": "ipython3",
   "version": "3.12.2"
  }
 },
 "nbformat": 4,
 "nbformat_minor": 2
}
