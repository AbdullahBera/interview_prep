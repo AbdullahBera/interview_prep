{
 "cells": [
  {
   "cell_type": "code",
   "execution_count": 32,
   "metadata": {},
   "outputs": [
    {
     "data": {
      "text/plain": [
       "[87, 40, 45, 23, 29, 45]"
      ]
     },
     "execution_count": 32,
     "metadata": {},
     "output_type": "execute_result"
    }
   ],
   "source": [
    "# Week 2 Question 2 \n",
    "\n",
    "\"\"\"\n",
    "HackerLand University Grading Policy\n",
    "\n",
    "Each student gets a grade in the range from 0 to 100.\n",
    "A grade less than 40 is considered failing.\n",
    "Rounding Rules:\n",
    "\n",
    "If the difference between the grade and the next multiple of 5 is less than 3, round the grade up to the next multiple of 5.\n",
    "If the grade is less than 38, do not round it because the result will still be a failing grade.\n",
    "Examples:\n",
    "\n",
    "A grade of 84 rounds up to 85 (since 85 - 84 = 1, which is less than 3).\n",
    "A grade of 29 is not rounded (it is less than 40).\n",
    "A grade of 57 is not rounded (the difference to the next multiple of 5 is 60 - 57 = 3, which is not less than 3).\n",
    "Task: Write a function to automate this rounding process.\n",
    "\n",
    "\"\"\"\n",
    "\n",
    "grades = [87,40,44,23,29,43]\n",
    "new_grade = []\n",
    "for i in grades:\n",
    "    if i < 38:\n",
    "        new_grade.append(i)\n",
    "    else: \n",
    "        if (i//5 + 1) * 5 - i < 3:\n",
    "            new_grade.append((i//5 + 1) * 5)\n",
    "        else:\n",
    "            new_grade.append(i)\n",
    "new_grade"
   ]
  },
  {
   "cell_type": "code",
   "execution_count": 122,
   "metadata": {},
   "outputs": [
    {
     "name": "stdout",
     "output_type": "stream",
     "text": [
      "{1: 2, 2: 2, 3: 2, 4: 1}\n",
      "4\n"
     ]
    }
   ],
   "source": [
    "# Week 2 Question 1 \n",
    "\n",
    "\"\"\"\n",
    "Given an array of integers, where all elements but one occur twice, find the unique element.\n",
    "\n",
    "\"\"\"\n",
    "\n",
    "dict_values = {}\n",
    "a = [1,2,3,4,3,2,1]\n",
    "\n",
    "for i in a:\n",
    "    dict_values[i] = dict_values.get(i, 0) + 1\n",
    "\n",
    "\n",
    "for key,value in dict_values.items():\n",
    "    if value == 1:\n",
    "        print(key)\n"
   ]
  },
  {
   "cell_type": "code",
   "execution_count": 109,
   "metadata": {},
   "outputs": [
    {
     "name": "stdout",
     "output_type": "stream",
     "text": [
      "[0, 1, 2, 3, 4, 6, 7]\n",
      "3\n"
     ]
    }
   ],
   "source": [
    "# Mock test \n",
    "\n",
    "\"\"\"\n",
    "Find the median of n odd elements\n",
    "\"\"\"\n",
    "arr = [0, 1, 2, 4, 6, 3, 7]\n",
    "sorted_arr = sorted(arr)\n",
    "\n",
    "print(sorted_arr)\n",
    "median = len(sorted_arr) // 2 \n",
    "print(sorted_arr[median])"
   ]
  },
  {
   "cell_type": "code",
   "execution_count": 86,
   "metadata": {},
   "outputs": [
    {
     "data": {
      "text/plain": [
       "[2, 1, 0]"
      ]
     },
     "execution_count": 86,
     "metadata": {},
     "output_type": "execute_result"
    }
   ],
   "source": [
    "# Question 8\n",
    "\n",
    "\"\"\"\n",
    "There is a collection of input strings and a collection of query strings. For each query string, \n",
    "determine how many times it occurs in the list of input strings. Return an array of the results.\n",
    "\"\"\"\n",
    "\n",
    "strings = ['ab', 'ab', 'abc']\n",
    "queries = ['ab', 'abc', 'bc']\n",
    "\n",
    "\n",
    "## This solution didn't pass several tests?? \n",
    "dict = {}\n",
    "\n",
    "for i in queries:\n",
    "    dict[i] = 0\n",
    "    for j in strings:          \n",
    "        if i == j :\n",
    "            dict[i]+=1 \n",
    "        \n",
    "        \n",
    "list(dict.values())"
   ]
  },
  {
   "cell_type": "code",
   "execution_count": 87,
   "metadata": {},
   "outputs": [
    {
     "name": "stdout",
     "output_type": "stream",
     "text": [
      "[2, 1, 0]\n"
     ]
    }
   ],
   "source": [
    "## This solution passed all test: \n",
    "\n",
    "count_list = []\n",
    "\n",
    "for i in queries:\n",
    "    count_list.append(strings.count(i))\n",
    "\n",
    "print(count_list)\n"
   ]
  },
  {
   "cell_type": "code",
   "execution_count": null,
   "metadata": {},
   "outputs": [],
   "source": [
    "# Question 6 \n",
    "\n",
    "\"\"\"\n",
    "Given an array of integers and a positive integer k, determine the number of (i, j) pairs where i < j and ar[i] + ar[j] is divisible by k.\n",
    "\"\"\"\n",
    "\n",
    "def divisibleSumPairs(n, k, ar):\n",
    "    # Write your code here\n",
    "    list_values = []\n",
    "    for i in range(n - 1):\n",
    "        for j in range(1, n):\n",
    "            if i != j and i < j:\n",
    "                if (ar[i] + ar[j]) % k == 0:\n",
    "                    list_values.append([ar[i] + ar[j]])\n",
    "    return len(list_values)\n",
    "\n",
    "\n"
   ]
  },
  {
   "cell_type": "code",
   "execution_count": 89,
   "metadata": {},
   "outputs": [
    {
     "name": "stdout",
     "output_type": "stream",
     "text": [
      "4 0\n"
     ]
    }
   ],
   "source": [
    "# Question 4 \n",
    "\n",
    "\"\"\"\n",
    "Given the scores for a season, determine the number of times Maria breaks her records for most and least points scored during the season.\n",
    "\n",
    "\"\"\"\n",
    "\n",
    "scores = [3, 4, 21, 36, 10, 28, 35, 5, 24, 42]\n",
    "\n",
    "max_value = scores[0]\n",
    "min_value = scores[0]\n",
    "min_count = 0\n",
    "max_count=0\n",
    "for i in range(len(scores)-1): \n",
    "    \n",
    "    if min_value > scores[i+1]:\n",
    "            min_value = scores[i+1]\n",
    "            min_count += 1 \n",
    "    if max_value < scores[i+1]:\n",
    "          max_value = scores[i+1]\n",
    "          max_count +=1    \n",
    "\n",
    "\n",
    "print(max_count, min_count)\n"
   ]
  },
  {
   "cell_type": "code",
   "execution_count": 90,
   "metadata": {},
   "outputs": [
    {
     "name": "stdout",
     "output_type": "stream",
     "text": [
      "03:01:00\n"
     ]
    }
   ],
   "source": [
    "\n",
    "## Question 3 \n",
    "\n",
    "\"\"\"\n",
    "Given a 12 time in -hour AM/PM format, convert it to military (24-hour) time.\n",
    "\n",
    "Note: - 12:00:00AM on a 12-hour clock is 00:00:00 on a 24-hour clock.\n",
    "- 12:00:00PM on a 12-hour clock is 12:00:00 on a 24-hour clock.\n",
    "\n",
    "\"\"\"\n",
    "s = '03:01:00AM'\n",
    "\n",
    "s_split = s.split(\":\")[2]\n",
    "\n",
    "if 'PM' in s.split(':')[2] and s.split(':')[0] == '12':\n",
    "    hrs = print('12'+':'+s.split(':')[1]+':'+s_split.split('PM')[0])\n",
    "\n",
    "elif 'PM' in s.split(':')[2]:\n",
    "    hrs = int(s.split(':')[0]) + int('12')\n",
    "    print(str(hrs)+':'+s.split(':')[1]+':'+s_split.split('PM')[0])\n",
    "\n",
    "elif 'AM' in s.split(':')[2] and s.split(':')[0] == '12':\n",
    "    print('00'+':'+s.split(':')[1]+':'+s_split.split('AM')[0])\n",
    "\n",
    "else: \n",
    "    print(s.split(':')[0]+':'+s.split(':')[1]+':'+s_split.split('AM')[0])\n",
    "\n",
    "\n",
    "\n",
    "\n"
   ]
  },
  {
   "cell_type": "code",
   "execution_count": 91,
   "metadata": {},
   "outputs": [
    {
     "data": {
      "text/plain": [
       "[3, 1, 9, 7, 5]"
      ]
     },
     "execution_count": 91,
     "metadata": {},
     "output_type": "execute_result"
    }
   ],
   "source": [
    "## Question 2 \n",
    "\n",
    "\"\"\"\n",
    "Given five positive integers, find the minimum and maximum values that can be calculated by summing exactly four of the five integers. \n",
    "\n",
    "Then print the respective minimum and maximum values as a single line of two space-separated long integers.\n",
    "\n",
    "\"\"\"\n",
    "def miniMaxSum(arr):\n",
    "    # Write your code here\n",
    "    sort_value = sorted(arr)\n",
    "    \n",
    "    print(sum(sort_value[:4]), sum(sort_value[1:]))\n",
    "\n",
    "arr = [3, 1, 9, 7, 5]\n",
    "\n",
    "arr"
   ]
  },
  {
   "cell_type": "code",
   "execution_count": 92,
   "metadata": {},
   "outputs": [
    {
     "name": "stdout",
     "output_type": "stream",
     "text": [
      "0.4\n",
      "0.4\n",
      "0.2\n"
     ]
    }
   ],
   "source": [
    "## Question 1 \n",
    "\n",
    "\"\"\"\n",
    "Given an array of integers, calculate the ratios of its elements that are positive, negative, and zero. Print the decimal value of each fraction on a new line with  places after the decimal.\n",
    "\n",
    "Note: This challenge introduces precision problems. The test cases are scaled to six decimal places, though answers with absolute error of up to 10^-4 are acceptable\n",
    "\"\"\"\n",
    "def plusMinus(arr):\n",
    "    # Write your code here\n",
    "    pos = []\n",
    "    neg = []\n",
    "    zero = []\n",
    "    \n",
    "    for i in arr:\n",
    "        if i < 0:\n",
    "            neg.append(i)\n",
    "        elif i > 0:\n",
    "            pos.append(i)\n",
    "        else:\n",
    "            zero.append(i)\n",
    "    print(len(pos)/len(arr))\n",
    "    print(len(neg)/len(arr))\n",
    "    print(len(zero)/len(arr))\n",
    "\n",
    "arr = [1, 1, 0, -1, -1]\n",
    "\n",
    "plusMinus(arr)"
   ]
  },
  {
   "cell_type": "code",
   "execution_count": null,
   "metadata": {},
   "outputs": [],
   "source": []
  },
  {
   "cell_type": "code",
   "execution_count": null,
   "metadata": {},
   "outputs": [],
   "source": []
  }
 ],
 "metadata": {
  "kernelspec": {
   "display_name": "base",
   "language": "python",
   "name": "python3"
  },
  "language_info": {
   "codemirror_mode": {
    "name": "ipython",
    "version": 3
   },
   "file_extension": ".py",
   "mimetype": "text/x-python",
   "name": "python",
   "nbconvert_exporter": "python",
   "pygments_lexer": "ipython3",
   "version": "3.12.2"
  }
 },
 "nbformat": 4,
 "nbformat_minor": 2
}
